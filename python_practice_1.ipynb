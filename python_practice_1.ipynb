{
  "nbformat": 4,
  "nbformat_minor": 0,
  "metadata": {
    "colab": {
      "provenance": []
    },
    "kernelspec": {
      "name": "python3",
      "display_name": "Python 3"
    },
    "language_info": {
      "name": "python"
    }
  },
  "cells": [
    {
      "cell_type": "markdown",
      "source": [
        "# I. Змінні та памʼять."
      ],
      "metadata": {
        "id": "p9wwt0LZzNvn"
      }
    },
    {
      "cell_type": "markdown",
      "source": [
        "1. Створити змінні, що посилаються на два цілих числа, що однакові за значенням, де значення належить проміжку від -5 до 256. Чи будуть ці змінні рівні тільки за значенням або ж ще будуть посилатися на один і той самий обʼєкт в памʼяті? Наведіть код та дайте текстову відповідь нижче."
      ],
      "metadata": {
        "id": "HTJrrm95xSV9"
      }
    },
    {
      "cell_type": "code",
      "execution_count": 6,
      "metadata": {
        "id": "FHSFpb1bwTFG",
        "colab": {
          "base_uri": "https://localhost:8080/"
        },
        "outputId": "b201c309-9f2a-4fa2-8256-dde98fc0acce"
      },
      "outputs": [
        {
          "output_type": "stream",
          "name": "stdout",
          "text": [
            "a and b are equal in value: True\n",
            "a and b are equal by object in memory: True\n"
          ]
        }
      ],
      "source": [
        "a = 100\n",
        "b = 100\n",
        "\n",
        "are_same_object = a is b\n",
        "\n",
        "print(\"a and b are equal in value:\", a == b)\n",
        "print(\"a and b are equal by object in memory:\", are_same_object)"
      ]
    },
    {
      "cell_type": "markdown",
      "source": [
        "У цьому прикладі a і b мають однакове значення (100), і вони також посилаються на один і той самий об'єкт в пам'яті, оскільки 100 належить до проміжку від -5 до 256, який кешується Python."
      ],
      "metadata": {
        "id": "9EFImBOBRh3e"
      }
    },
    {
      "cell_type": "markdown",
      "source": [
        "2. Створити змінні, що посилаються на одне і те саме булеве значення. Чи будуть ці змінні рівні тільки за значенням або ж ще будуть посилатися на один і той самий обʼєкт в памʼяті? Наведіть код та дайте текстову відповідь нижче."
      ],
      "metadata": {
        "id": "N-soIzlV0Awv"
      }
    },
    {
      "cell_type": "code",
      "source": [
        "x = True\n",
        "y = True\n",
        "\n",
        "are_same_object = x is y\n",
        "\n",
        "print(\"x and y are equal in value:\", x == y)\n",
        "print(\"x and y are equal by object in memory:\", are_same_object)"
      ],
      "metadata": {
        "id": "qK1-VBih0Lgz",
        "colab": {
          "base_uri": "https://localhost:8080/"
        },
        "outputId": "39efca72-b5cf-415e-fa72-bad213832022"
      },
      "execution_count": 7,
      "outputs": [
        {
          "output_type": "stream",
          "name": "stdout",
          "text": [
            "x and y are equal in value: True\n",
            "x and y are equal by object in memory: True\n"
          ]
        }
      ]
    },
    {
      "cell_type": "markdown",
      "source": [
        "У цьому прикладі x і y мають однакове значення (True), і вони також посилаються на один і той самий об'єкт в пам'яті, оскільки булеве значення True кешується Python. Те саме стосується і значення False."
      ],
      "metadata": {
        "id": "nD2SJcgaya4d"
      }
    },
    {
      "cell_type": "markdown",
      "source": [
        "3. За допомогою якої функції можна перевірити належність змінної до вказаного типу даних (напр. чи змінна посилається на значення булевого типу)?"
      ],
      "metadata": {
        "id": "ISORzt6M3vAt"
      }
    },
    {
      "cell_type": "code",
      "source": [
        "x = True\n",
        "if type(x) == bool:\n",
        "    print(\"The variable x is a Boolean type\")\n",
        "else:\n",
        "    print(\"The variable x is not a Boolean type\")"
      ],
      "metadata": {
        "id": "N7HHGm4H4CW7",
        "colab": {
          "base_uri": "https://localhost:8080/"
        },
        "outputId": "cca7ea00-d5a8-4b3e-da93-bce84c8ec6e9"
      },
      "execution_count": 8,
      "outputs": [
        {
          "output_type": "stream",
          "name": "stdout",
          "text": [
            "The variable x is a Boolean type\n"
          ]
        }
      ]
    },
    {
      "cell_type": "markdown",
      "source": [
        "# II. Цілі числа та числа з рухомою комою"
      ],
      "metadata": {
        "id": "tRxugKAxwYLw"
      }
    },
    {
      "cell_type": "markdown",
      "source": [
        "4. Створити дві змінні, що посилаються на будь-які два цілих числа та продемонструвати такі арифметичні операції: додавання, віднімання, ділення, множення, ділення без залишку, ділення по модулю, приведення до ступеню. Всі результати операцій вивести на екран."
      ],
      "metadata": {
        "id": "NLHkgd5Gybc8"
      }
    },
    {
      "cell_type": "code",
      "source": [
        "a = 10\n",
        "b = 5\n",
        "\n",
        "addition_result = a + b\n",
        "print(\"Addition:\", addition_result)\n",
        "\n",
        "subtraction_result = a - b\n",
        "print(\"Subtraction:\", subtraction_result)\n",
        "\n",
        "division_result = a / b\n",
        "print(\"Division:\", division_result)\n",
        "\n",
        "multiplication_result = a * b\n",
        "print(\"Multiplication:\", multiplication_result)\n",
        "\n",
        "floor_division_result = a // b\n",
        "print(\"Fission without residue:\", floor_division_result)\n",
        "\n",
        "modulo_result = a % b\n",
        "print(\"Division by module:\", modulo_result)\n",
        "\n",
        "exponentiation_result = a ** b\n",
        "print(\"Приведення до ступеню:\", exponentiation_result)\n"
      ],
      "metadata": {
        "id": "Ck6JaN4Qysoc",
        "colab": {
          "base_uri": "https://localhost:8080/"
        },
        "outputId": "76a3f40b-1e3f-4138-ef2e-b9b9bc22aea2"
      },
      "execution_count": 9,
      "outputs": [
        {
          "output_type": "stream",
          "name": "stdout",
          "text": [
            "Addition: 15\n",
            "Subtraction: 5\n",
            "Division: 2.0\n",
            "Multiplication: 50\n",
            "Fission without residue: 2\n",
            "Division by module: 0\n",
            "Приведення до ступеню: 100000\n"
          ]
        }
      ]
    },
    {
      "cell_type": "markdown",
      "source": [
        "5. Створити дві змінні, що посилаються на будь-які два числа з рухомою комою та продемонструвати такі арифметичні операції: додавання, віднімання, ділення, множення, ділення без залишку, ділення по модулю, приведення до ступеню. Всі результати операцій вивести на екран."
      ],
      "metadata": {
        "id": "tOT1crlty3cE"
      }
    },
    {
      "cell_type": "code",
      "source": [
        "a = 10.5\n",
        "b = 3.0\n",
        "\n",
        "addition_result = a + b\n",
        "print(\"Addition:\", addition_result)\n",
        "\n",
        "subtraction_result = a - b\n",
        "print(\"Subtraction:\", subtraction_result)\n",
        "\n",
        "division_result = a / b\n",
        "print(\"Division:\", division_result)\n",
        "\n",
        "multiplication_result = a * b\n",
        "print(\"Multiplication:\", multiplication_result)\n",
        "\n",
        "floor_division_result = a // b\n",
        "print(\"Fission without residue:\", floor_division_result)\n",
        "\n",
        "modulo_result = a % b\n",
        "print(\"Division by module:\", modulo_result)\n",
        "\n",
        "exponentiation_result = a ** b\n",
        "print(\"Conversion to a degree:\", exponentiation_result)"
      ],
      "metadata": {
        "id": "m88_XOI9y-HI",
        "colab": {
          "base_uri": "https://localhost:8080/"
        },
        "outputId": "dfc1aa99-82e9-43a3-fb98-84d2d6c4e6a9"
      },
      "execution_count": 10,
      "outputs": [
        {
          "output_type": "stream",
          "name": "stdout",
          "text": [
            "Addition: 13.5\n",
            "Subtraction: 7.5\n",
            "Division: 3.5\n",
            "Multiplication: 31.5\n",
            "Fission without residue: 3.0\n",
            "Division by module: 1.5\n",
            "Conversion to a degree: 1157.625\n"
          ]
        }
      ]
    },
    {
      "cell_type": "markdown",
      "source": [
        "6. Спробуйте проробити всі ті самі арифметичні операції над двома змінними, що посилаються на різні булеві значення. Прокоментуйте, чому, на Вашу думку, Ви отримали саме такі результати."
      ],
      "metadata": {
        "id": "74jIsang0Yfe"
      }
    },
    {
      "cell_type": "code",
      "source": [
        "a = True\n",
        "b = False\n",
        "\n",
        "addition_result = a + b\n",
        "print(\"Addition:\", addition_result)\n",
        "\n",
        "subtraction_result = a - b\n",
        "print(\"Subtraction:\", subtraction_result)\n",
        "\n",
        "multiplication_result = a * b\n",
        "print(\"Multiplication:\", multiplication_result)\n",
        "\n",
        "exponentiation_result = a ** b\n",
        "print(\"Exponentiation:\", exponentiation_result)\n",
        "\n",
        "division_result = a / b\n",
        "print(\"Division:\", division_result)\n",
        "\n",
        "modulo_result = a % b\n",
        "print(\"Modulo:\", modulo_result)"
      ],
      "metadata": {
        "id": "Py3JN4gU0eTq",
        "colab": {
          "base_uri": "https://localhost:8080/",
          "height": 314
        },
        "outputId": "c0cd0957-1472-4f97-8f60-962ceb41ebc0"
      },
      "execution_count": 11,
      "outputs": [
        {
          "output_type": "stream",
          "name": "stdout",
          "text": [
            "Addition: 1\n",
            "Subtraction: 1\n",
            "Multiplication: 0\n",
            "Exponentiation: 1\n"
          ]
        },
        {
          "output_type": "error",
          "ename": "ZeroDivisionError",
          "evalue": "ignored",
          "traceback": [
            "\u001b[0;31m---------------------------------------------------------------------------\u001b[0m",
            "\u001b[0;31mZeroDivisionError\u001b[0m                         Traceback (most recent call last)",
            "\u001b[0;32m<ipython-input-11-300cabb02fdb>\u001b[0m in \u001b[0;36m<cell line: 16>\u001b[0;34m()\u001b[0m\n\u001b[1;32m     14\u001b[0m \u001b[0mprint\u001b[0m\u001b[0;34m(\u001b[0m\u001b[0;34m\"Exponentiation:\"\u001b[0m\u001b[0;34m,\u001b[0m \u001b[0mexponentiation_result\u001b[0m\u001b[0;34m)\u001b[0m\u001b[0;34m\u001b[0m\u001b[0;34m\u001b[0m\u001b[0m\n\u001b[1;32m     15\u001b[0m \u001b[0;34m\u001b[0m\u001b[0m\n\u001b[0;32m---> 16\u001b[0;31m \u001b[0mdivision_result\u001b[0m \u001b[0;34m=\u001b[0m \u001b[0ma\u001b[0m \u001b[0;34m/\u001b[0m \u001b[0mb\u001b[0m\u001b[0;34m\u001b[0m\u001b[0;34m\u001b[0m\u001b[0m\n\u001b[0m\u001b[1;32m     17\u001b[0m \u001b[0mprint\u001b[0m\u001b[0;34m(\u001b[0m\u001b[0;34m\"Division:\"\u001b[0m\u001b[0;34m,\u001b[0m \u001b[0mdivision_result\u001b[0m\u001b[0;34m)\u001b[0m\u001b[0;34m\u001b[0m\u001b[0;34m\u001b[0m\u001b[0m\n\u001b[1;32m     18\u001b[0m \u001b[0;34m\u001b[0m\u001b[0m\n",
            "\u001b[0;31mZeroDivisionError\u001b[0m: division by zero"
          ]
        }
      ]
    },
    {
      "cell_type": "markdown",
      "source": [
        "В Python значення True внутрішньо розглядається як ціле число 1, а значення False - як 0. Коли ми виконуємо додавання і віднімання з логічними значеннями, Python розглядає їх як цілі числа і застосовує відповідні арифметичні операції. Помилка ZeroDivisionError виникла при спробі ділення (division_result = a / b). Це пов'язано з тим, що ділення на нуль у Python заборонено"
      ],
      "metadata": {
        "id": "-pY4SCvo0wMG"
      }
    },
    {
      "cell_type": "markdown",
      "source": [
        "7. Використовуючи змінні з вправи 3, продемонструйте механізм явного перетворення типів, де числа з рухомою комою перетворюються на цілі числа."
      ],
      "metadata": {
        "id": "1kBClKgPzZnC"
      }
    },
    {
      "cell_type": "code",
      "source": [
        "x = 10.5\n",
        "y = 3.0\n",
        "\n",
        "x_integer = int(x)\n",
        "y_integer = int(y)\n",
        "\n",
        "print(\"x as an integer:\", x_integer)\n",
        "print(\"y as an integer:\", y_integer)"
      ],
      "metadata": {
        "id": "akcVeUWYzlpb",
        "colab": {
          "base_uri": "https://localhost:8080/"
        },
        "outputId": "03f22827-84a1-441f-bf92-0605f8fb2ec9"
      },
      "execution_count": 12,
      "outputs": [
        {
          "output_type": "stream",
          "name": "stdout",
          "text": [
            "x as an integer: 10\n",
            "y as an integer: 3\n"
          ]
        }
      ]
    },
    {
      "cell_type": "markdown",
      "source": [
        "# III. Робота зі списками."
      ],
      "metadata": {
        "id": "GYVqN9uP1D4n"
      }
    },
    {
      "cell_type": "markdown",
      "source": [
        "8. Створити список двома різними за синтаксисом способами. За допомогою вбудованої функції обчисліть довжину одного з них."
      ],
      "metadata": {
        "id": "7-DeDunw2sO-"
      }
    },
    {
      "cell_type": "code",
      "source": [
        "my_list1 = [1, 2, 3, 4, 5]\n",
        "length1 = len(my_list1)\n",
        "print(\"List length my_list1:\", length1)\n",
        "\n",
        "my_list2 = list(\"Hello\")\n",
        "length2 = len(my_list2)\n",
        "print(\"List length my_list2:\", length2)"
      ],
      "metadata": {
        "id": "jY07arjK21hH",
        "colab": {
          "base_uri": "https://localhost:8080/"
        },
        "outputId": "e137fc0d-3285-41c2-c681-8d52e6df56c0"
      },
      "execution_count": 13,
      "outputs": [
        {
          "output_type": "stream",
          "name": "stdout",
          "text": [
            "List length my_list1: 5\n",
            "List length my_list2: 5\n"
          ]
        }
      ]
    },
    {
      "cell_type": "markdown",
      "source": [
        "9. Створіть два списка та за допомогою спеціального методу додайте другий з них в якості останнього елемента першого."
      ],
      "metadata": {
        "id": "8vmGUTjL22gI"
      }
    },
    {
      "cell_type": "code",
      "source": [
        "list1 = [1, 2, 3]\n",
        "list2 = [4, 5, 6]\n",
        "\n",
        "list1.append(list2)\n",
        "print(\"Changed list list1:\", list1)"
      ],
      "metadata": {
        "id": "DSP6lO_m4cdV",
        "colab": {
          "base_uri": "https://localhost:8080/"
        },
        "outputId": "14ce3d7b-cc7a-49eb-976b-1a38af06571f"
      },
      "execution_count": 14,
      "outputs": [
        {
          "output_type": "stream",
          "name": "stdout",
          "text": [
            "Changed list list1: [1, 2, 3, [4, 5, 6]]\n"
          ]
        }
      ]
    },
    {
      "cell_type": "markdown",
      "source": [
        "10. Створіть два списка та за допомогою спеціального методу \"розширте\" перший (додайте всі елементи другого в кінець першого списку). Напишіть, чим відрізняються методи в завданні 9 та 10."
      ],
      "metadata": {
        "id": "6ke6ng2j4dtq"
      }
    },
    {
      "cell_type": "code",
      "source": [
        "list1 = [1, 2, 3]\n",
        "list2 = [4, 5, 6]\n",
        "\n",
        "list1.extend(list2)\n",
        "print(\"Changed list list1:\", list1)"
      ],
      "metadata": {
        "id": "DVJVvu494q8d",
        "colab": {
          "base_uri": "https://localhost:8080/"
        },
        "outputId": "e95be6fb-d4e8-410f-99ee-2f0cec22bf84"
      },
      "execution_count": 15,
      "outputs": [
        {
          "output_type": "stream",
          "name": "stdout",
          "text": [
            "Changed list list1: [1, 2, 3, 4, 5, 6]\n"
          ]
        }
      ]
    },
    {
      "cell_type": "markdown",
      "source": [
        "Метод .append() додає один елемент до списку, тимчасом як метод .extend() додає всі елементи ітерабельного об'єкта до списку."
      ],
      "metadata": {
        "id": "LvEs8TGo6CaT"
      }
    },
    {
      "cell_type": "markdown",
      "source": [
        "11. Створіть список та відсортуйте його так, щоб:\n",
        "а) його id залишився незмінним після сортування.\n",
        "б) результат сортування був збережений у нову змінну. Підказка: для одного пункту використовуйте вбудовану функцію стортування, а в іншому - спеціальний метод для роботи зі списками."
      ],
      "metadata": {
        "id": "iu_NyJeR4vOu"
      }
    },
    {
      "cell_type": "code",
      "source": [
        "list_of_objects = [{'id': 3, 'name': 'AI-31'},\n",
        "                   {'id': 1, 'name': 'Viacheslav'},\n",
        "                   {'id': 2, 'name': 'Romanok'},\n",
        "                   {'id': 4, 'name': 'Python'}]\n",
        "\n",
        "#а\n",
        "sorted_list = sorted(list_of_objects, key=lambda x: x['id'])\n",
        "\n",
        "#b\n",
        "list_of_objects.sort(key=lambda x: x['id'])\n",
        "\n",
        "print(\"Sorted copy of the list:\")\n",
        "for item in sorted_list:\n",
        "    print(item)\n",
        "\n",
        "print(\"\\nThe original list with the saved id:\")\n",
        "for item in list_of_objects:\n",
        "    print(item)"
      ],
      "metadata": {
        "id": "LWdiIkDj5Nxo",
        "colab": {
          "base_uri": "https://localhost:8080/"
        },
        "outputId": "0d4aa778-781c-4f32-837c-07d07b43a9c8"
      },
      "execution_count": 16,
      "outputs": [
        {
          "output_type": "stream",
          "name": "stdout",
          "text": [
            "Sorted copy of the list:\n",
            "{'id': 1, 'name': 'Viacheslav'}\n",
            "{'id': 2, 'name': 'Romanok'}\n",
            "{'id': 3, 'name': 'AI-31'}\n",
            "{'id': 4, 'name': 'Python'}\n",
            "\n",
            "The original list with the saved id:\n",
            "{'id': 1, 'name': 'Viacheslav'}\n",
            "{'id': 2, 'name': 'Romanok'}\n",
            "{'id': 3, 'name': 'AI-31'}\n",
            "{'id': 4, 'name': 'Python'}\n"
          ]
        }
      ]
    },
    {
      "cell_type": "markdown",
      "source": [
        "12. Створіть список з елементами різного типу, де деякі значення елементів повторюються. За допомогою спеціального методу порахуйте кількість значень одного з елементів на Ваш вибір. Результат виведіть на екран."
      ],
      "metadata": {
        "id": "1l80guua5bia"
      }
    },
    {
      "cell_type": "code",
      "source": [
        "my_list = [1, \"Orange\", 2, True, 3, \"Orange\", 4, \"Lemon\", 5, \"Orange\"]\n",
        "count_orange = my_list.count(\"Orange\")\n",
        "print(\"Number of 'apple' values in the list:\", count_orange)"
      ],
      "metadata": {
        "id": "tWFdczmv5z5Q",
        "colab": {
          "base_uri": "https://localhost:8080/"
        },
        "outputId": "81a3c730-bd8c-46fa-d162-f75a253b50d1"
      },
      "execution_count": 17,
      "outputs": [
        {
          "output_type": "stream",
          "name": "stdout",
          "text": [
            "Number of 'apple' values in the list: 3\n"
          ]
        }
      ]
    },
    {
      "cell_type": "markdown",
      "source": [
        "# IV. Робота з кортежами."
      ],
      "metadata": {
        "id": "pCjR1dJb1Qbi"
      }
    },
    {
      "cell_type": "markdown",
      "source": [
        "13. Створити список з один типом елементів та на основі цього списку створити кортеж."
      ],
      "metadata": {
        "id": "te3MAUYq28TV"
      }
    },
    {
      "cell_type": "code",
      "source": [
        "my_list = [1, 2, 3, 4, 5]\n",
        "my_tuple = tuple(my_list)\n",
        "print(\"A tuple has been created:\", my_tuple)"
      ],
      "metadata": {
        "id": "uq3O114R2_H1",
        "colab": {
          "base_uri": "https://localhost:8080/"
        },
        "outputId": "e1ffede6-c5db-4c40-8532-47338d9c33a4"
      },
      "execution_count": 18,
      "outputs": [
        {
          "output_type": "stream",
          "name": "stdout",
          "text": [
            "A tuple has been created: (1, 2, 3, 4, 5)\n"
          ]
        }
      ]
    },
    {
      "cell_type": "markdown",
      "source": [
        "14. Створити кортеж з один елементом."
      ],
      "metadata": {
        "id": "fAZCxAX06R_k"
      }
    },
    {
      "cell_type": "code",
      "source": [
        "my_tuple = (777,)\n",
        "print(my_tuple)"
      ],
      "metadata": {
        "id": "-QWjudqk6kHd",
        "colab": {
          "base_uri": "https://localhost:8080/"
        },
        "outputId": "6e7a298e-9d20-42fe-ce26-b876a4c9368e"
      },
      "execution_count": 19,
      "outputs": [
        {
          "output_type": "stream",
          "name": "stdout",
          "text": [
            "(777,)\n"
          ]
        }
      ]
    },
    {
      "cell_type": "markdown",
      "source": [
        "15. Створити кортеж. Вивести на екран всі доступні його атрибути та методи."
      ],
      "metadata": {
        "id": "VfTSJwQF7djZ"
      }
    },
    {
      "cell_type": "code",
      "source": [
        "my_tuple = (1, 2, 3)\n",
        "print(dir(my_tuple))"
      ],
      "metadata": {
        "id": "x9elcFfr774r",
        "colab": {
          "base_uri": "https://localhost:8080/"
        },
        "outputId": "564d626c-0aa5-4064-aa2e-1727c568420e"
      },
      "execution_count": 20,
      "outputs": [
        {
          "output_type": "stream",
          "name": "stdout",
          "text": [
            "['__add__', '__class__', '__class_getitem__', '__contains__', '__delattr__', '__dir__', '__doc__', '__eq__', '__format__', '__ge__', '__getattribute__', '__getitem__', '__getnewargs__', '__gt__', '__hash__', '__init__', '__init_subclass__', '__iter__', '__le__', '__len__', '__lt__', '__mul__', '__ne__', '__new__', '__reduce__', '__reduce_ex__', '__repr__', '__rmul__', '__setattr__', '__sizeof__', '__str__', '__subclasshook__', 'count', 'index']\n"
          ]
        }
      ]
    },
    {
      "cell_type": "markdown",
      "source": [
        "16. Порівняйте список та кортеж. Назвіть схожості та відмінності, випадки використання."
      ],
      "metadata": {
        "id": "8LCtYcmI6w1M"
      }
    },
    {
      "cell_type": "markdown",
      "source": [
        "Обидва підтримують індексацію, зрізи та різні типи елементів.\n",
        "Відмінність полягає у змінності: списки змінні, кортежі - незмінні. Синтаксис списків використовує квадратні дужки [], кортежі - круглі (). Кортежі зазвичай є швидшими через свою незмінність.\n"
      ],
      "metadata": {
        "id": "t9MwoWor7UVB"
      }
    },
    {
      "cell_type": "markdown",
      "source": [
        "# V. Індексування та слайсинг."
      ],
      "metadata": {
        "id": "QTP622J81iHk"
      }
    },
    {
      "cell_type": "markdown",
      "source": [
        "17. Створіть список з 6ти елементів. Отримайте третій елемент за допомогою двох різних індексів."
      ],
      "metadata": {
        "id": "4dmeIU-N9gHy"
      }
    },
    {
      "cell_type": "code",
      "source": [
        "my_list = [1, 2, 3, 4, 5, 6]\n",
        "element1 = my_list[2]\n",
        "element2 = my_list[-4]\n",
        "\n",
        "print(\"The third element (by index 2):\", element1)\n",
        "print(\"The third element (with a negative index of -4):\", element2)"
      ],
      "metadata": {
        "id": "47LTFhfH9pRe",
        "colab": {
          "base_uri": "https://localhost:8080/"
        },
        "outputId": "a8fe3f72-0681-4ce5-896a-7cea67ddc181"
      },
      "execution_count": 22,
      "outputs": [
        {
          "output_type": "stream",
          "name": "stdout",
          "text": [
            "The third element (by index 2): 3\n",
            "The third element (with a negative index of -4): 3\n"
          ]
        }
      ]
    },
    {
      "cell_type": "markdown",
      "source": [
        "18. Створіть список, де елементами цього списку також є списки. Отримай перший елемент з останнього рядка та виведи значення на екран."
      ],
      "metadata": {
        "id": "JC3BkD-67_--"
      }
    },
    {
      "cell_type": "code",
      "source": [
        "my_list = [\n",
        "    [1, 2, 3],\n",
        "    [4, 5, 6],\n",
        "    [7, 8, 9]\n",
        "]\n",
        "\n",
        "last_row = my_list[-1]\n",
        "first_element_last_row = last_row[0]\n",
        "\n",
        "print(\"The first element from the last line:\", first_element_last_row)"
      ],
      "metadata": {
        "id": "ctR2jdq68cB0",
        "colab": {
          "base_uri": "https://localhost:8080/"
        },
        "outputId": "63f88cb8-a3eb-4a69-9166-24203d2c8f1a"
      },
      "execution_count": 23,
      "outputs": [
        {
          "output_type": "stream",
          "name": "stdout",
          "text": [
            "The first element from the last line: 7\n"
          ]
        }
      ]
    },
    {
      "cell_type": "markdown",
      "source": [
        "19. Створіть кортеж, що містить 8  елементів цілочисленного типу. Виведіть на екран три найменших значення."
      ],
      "metadata": {
        "id": "A-hPrvOS8cjx"
      }
    },
    {
      "cell_type": "code",
      "source": [
        "my_tuple = (15, 8, 3, 12, 6, 21, 10, 5)\n",
        "sorted_tuple = sorted(my_tuple)\n",
        "print(\"The three smallest values:\", sorted_tuple[:3])"
      ],
      "metadata": {
        "id": "GPxJKNUm8xHU",
        "colab": {
          "base_uri": "https://localhost:8080/"
        },
        "outputId": "62c3819a-f411-4d9f-edf0-079925b4e1a1"
      },
      "execution_count": 25,
      "outputs": [
        {
          "output_type": "stream",
          "name": "stdout",
          "text": [
            "The three smallest values: [3, 5, 6]\n"
          ]
        }
      ]
    },
    {
      "cell_type": "markdown",
      "source": [
        "20. Створіть список з десяти елементів різного типу. Отримайте всі елементи, окрім двох перших та двох останніх та збережіть їх в новій змінній."
      ],
      "metadata": {
        "id": "JA47PKTv8zFK"
      }
    },
    {
      "cell_type": "code",
      "source": [
        "my_list = [True, 1, \"Orange\", 3.14, 88, 777, \"Lemon\", False, 42, {\"name\": \"Viacheslav\"}]\n",
        "new_list = my_list[2:-2]\n",
        "print(\"New list without the first two and last two items:\", new_list)"
      ],
      "metadata": {
        "id": "g-GAQS_kAlmr",
        "colab": {
          "base_uri": "https://localhost:8080/"
        },
        "outputId": "639bed68-a3dd-4239-ad87-7483e959bfa2"
      },
      "execution_count": 28,
      "outputs": [
        {
          "output_type": "stream",
          "name": "stdout",
          "text": [
            "New list without the first two and last two items: ['Orange', 3.14, 88, 777, 'Lemon', False]\n"
          ]
        }
      ]
    },
    {
      "cell_type": "markdown",
      "source": [
        "21. Створіть кортеж з 11ти елементів чисел з рухомою комою та отримайте кожен парний за індексом елемент в зворотньому порядку. Наприклад, маючи (1.2, 2.3, 3.3, 4.3, 5.3, 6.3, 7.3, 8.3, 9.3, 0.3), отримати (0.3, 8.3, 6.3, 4.3, 2.3). Результат збережіть в нову змінну та виведіть на екран."
      ],
      "metadata": {
        "id": "m0xrwFijAmDD"
      }
    },
    {
      "cell_type": "code",
      "source": [
        "my_tuple = (1.2, 2.3, 3.3, 4.3, 5.3, 6.3, 7.3, 8.3, 9.3, 0.3)\n",
        "result_tuple = my_tuple[::-2]\n",
        "print(\"Result:\", result_tuple)"
      ],
      "metadata": {
        "id": "BQwYLEXdBVBo",
        "colab": {
          "base_uri": "https://localhost:8080/"
        },
        "outputId": "376530cf-12e1-414f-a5a4-cd365d0b96ab"
      },
      "execution_count": 30,
      "outputs": [
        {
          "output_type": "stream",
          "name": "stdout",
          "text": [
            "Result: (0.3, 8.3, 6.3, 4.3, 2.3)\n"
          ]
        }
      ]
    },
    {
      "cell_type": "markdown",
      "source": [
        "# Вітаю! Ви велика(ий) молодець, що впоралась(вся). Похваліть себе та побалуйте чимось приємним. Я Вами пишаюся."
      ],
      "metadata": {
        "id": "F0ArvieRBZsG"
      }
    }
  ]
}