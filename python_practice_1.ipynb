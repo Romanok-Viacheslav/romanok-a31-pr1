{
  "nbformat": 4,
  "nbformat_minor": 0,
  "metadata": {
    "colab": {
      "provenance": []
    },
    "kernelspec": {
      "name": "python3",
      "display_name": "Python 3"
    },
    "language_info": {
      "name": "python"
    }
  },
  "cells": [
    {
      "cell_type": "markdown",
      "source": [
        "# I. Змінні та памʼять."
      ],
      "metadata": {
        "id": "p9wwt0LZzNvn"
      }
    },
    {
      "cell_type": "markdown",
      "source": [
        "1. Створити змінні, що посилаються на два цілих числа, що однакові за значенням, де значення належить проміжку від -5 до 256. Чи будуть ці змінні рівні тільки за значенням або ж ще будуть посилатися на один і той самий обʼєкт в памʼяті? Наведіть код та дайте текстову відповідь нижче."
      ],
      "metadata": {
        "id": "HTJrrm95xSV9"
      }
    },
    {
      "cell_type": "code",
      "execution_count": 5,
      "metadata": {
        "id": "FHSFpb1bwTFG",
        "colab": {
          "base_uri": "https://localhost:8080/"
        },
        "outputId": "a6ffecd5-de9f-415c-c0da-dfdb54b0bc3d"
      },
      "outputs": [
        {
          "output_type": "stream",
          "name": "stdout",
          "text": [
            "a and b are equal in value: True\n",
            "a and b are equal by object in memory: True\n"
          ]
        }
      ],
      "source": [
        "a = 100\n",
        "b = 100\n",
        "\n",
        "are_same_object = a is b\n",
        "\n",
        "print(\"a and b are equal in value:\", a == b)\n",
        "print(\"a and b are equal by object in memory:\", are_same_object)"
      ]
    },
    {
      "cell_type": "markdown",
      "source": [
        "У цьому прикладі a і b мають однакове значення (100), і вони також посилаються на один і той самий об'єкт в пам'яті, оскільки 100 належить до проміжку від -5 до 256, який кешується Python."
      ],
      "metadata": {
        "id": "9EFImBOBRh3e"
      }
    },
    {
      "cell_type": "markdown",
      "source": [
        "2. Створити змінні, що посилаються на одне і те саме булеве значення. Чи будуть ці змінні рівні тільки за значенням або ж ще будуть посилатися на один і той самий обʼєкт в памʼяті? Наведіть код та дайте текстову відповідь нижче."
      ],
      "metadata": {
        "id": "N-soIzlV0Awv"
      }
    },
    {
      "cell_type": "code",
      "source": [
        "x = True\n",
        "y = True\n",
        "\n",
        "are_same_object = x is y\n",
        "\n",
        "print(\"x and y are equal in value:\", x == y)\n",
        "print(\"x and y are equal by object in memory:\", are_same_object)"
      ],
      "metadata": {
        "id": "qK1-VBih0Lgz",
        "colab": {
          "base_uri": "https://localhost:8080/"
        },
        "outputId": "87ef229d-52f3-4038-973c-8c2455a71a47"
      },
      "execution_count": 6,
      "outputs": [
        {
          "output_type": "stream",
          "name": "stdout",
          "text": [
            "x and y are equal in value: True\n",
            "x and y are equal by object in memory: True\n"
          ]
        }
      ]
    },
    {
      "cell_type": "markdown",
      "source": [
        "У цьому прикладі x і y мають однакове значення (True), і вони також посилаються на один і той самий об'єкт в пам'яті, оскільки булеве значення True кешується Python. Те саме стосується і значення False."
      ],
      "metadata": {
        "id": "nD2SJcgaya4d"
      }
    },
    {
      "cell_type": "markdown",
      "source": [
        "3. За допомогою якої функції можна перевірити належність змінної до вказаного типу даних (напр. чи змінна посилається на значення булевого типу)?"
      ],
      "metadata": {
        "id": "ISORzt6M3vAt"
      }
    },
    {
      "cell_type": "code",
      "source": [
        "x = True\n",
        "is_boolean = isinstance(x, bool)\n",
        "\n",
        "if is_boolean:\n",
        "    print(\"The variable x refers to a Boolean data type.\")\n",
        "else:\n",
        "    print(\"The variable x does NOT refer to a Boolean data type.\")"
      ],
      "metadata": {
        "id": "N7HHGm4H4CW7",
        "colab": {
          "base_uri": "https://localhost:8080/"
        },
        "outputId": "f0c70d01-80b5-48d4-e4a4-20ec55134d1c"
      },
      "execution_count": 33,
      "outputs": [
        {
          "output_type": "stream",
          "name": "stdout",
          "text": [
            "The variable x refers to a Boolean data type.\n"
          ]
        }
      ]
    },
    {
      "cell_type": "markdown",
      "source": [
        "# II. Цілі числа та числа з рухомою комою"
      ],
      "metadata": {
        "id": "tRxugKAxwYLw"
      }
    },
    {
      "cell_type": "markdown",
      "source": [
        "4. Створити дві змінні, що посилаються на будь-які два цілих числа та продемонструвати такі арифметичні операції: додавання, віднімання, ділення, множення, ділення без залишку, ділення по модулю, приведення до ступеню. Всі результати операцій вивести на екран."
      ],
      "metadata": {
        "id": "NLHkgd5Gybc8"
      }
    },
    {
      "cell_type": "code",
      "source": [
        "a = 10\n",
        "b = 5\n",
        "\n",
        "addition_result = a + b\n",
        "print(\"Addition:\", addition_result)\n",
        "\n",
        "subtraction_result = a - b\n",
        "print(\"Subtraction:\", subtraction_result)\n",
        "\n",
        "division_result = a / b\n",
        "print(\"Division:\", division_result)\n",
        "\n",
        "multiplication_result = a * b\n",
        "print(\"Multiplication:\", multiplication_result)\n",
        "\n",
        "floor_division_result = a // b\n",
        "print(\"Fission without residue:\", floor_division_result)\n",
        "\n",
        "modulo_result = a % b\n",
        "print(\"Division by module:\", modulo_result)\n",
        "\n",
        "exponentiation_result = a ** b\n",
        "print(\"Приведення до ступеню:\", exponentiation_result)\n"
      ],
      "metadata": {
        "id": "Ck6JaN4Qysoc",
        "colab": {
          "base_uri": "https://localhost:8080/"
        },
        "outputId": "6548d77d-90f1-4b41-8c5c-4ec0a0ae93fe"
      },
      "execution_count": 32,
      "outputs": [
        {
          "output_type": "stream",
          "name": "stdout",
          "text": [
            "Addition: 15\n",
            "Subtraction: 5\n",
            "Division: 2.0\n",
            "Multiplication: 50\n",
            "Fission without residue: 2\n",
            "Division by module: 0\n",
            "Приведення до ступеню: 100000\n"
          ]
        }
      ]
    },
    {
      "cell_type": "markdown",
      "source": [
        "5. Створити дві змінні, що посилаються на будь-які два числа з рухомою комою та продемонструвати такі арифметичні операції: додавання, віднімання, ділення, множення, ділення без залишку, ділення по модулю, приведення до ступеню. Всі результати операцій вивести на екран."
      ],
      "metadata": {
        "id": "tOT1crlty3cE"
      }
    },
    {
      "cell_type": "code",
      "source": [
        "a = 10.5\n",
        "b = 3.0\n",
        "\n",
        "addition_result = a + b\n",
        "print(\"Addition:\", addition_result)\n",
        "\n",
        "subtraction_result = a - b\n",
        "print(\"Subtraction:\", subtraction_result)\n",
        "\n",
        "division_result = a / b\n",
        "print(\"Division:\", division_result)\n",
        "\n",
        "multiplication_result = a * b\n",
        "print(\"Multiplication:\", multiplication_result)\n",
        "\n",
        "floor_division_result = a // b\n",
        "print(\"Fission without residue:\", floor_division_result)\n",
        "\n",
        "modulo_result = a % b\n",
        "print(\"Division by module:\", modulo_result)\n",
        "\n",
        "exponentiation_result = a ** b\n",
        "print(\"Conversion to a degree:\", exponentiation_result)"
      ],
      "metadata": {
        "id": "m88_XOI9y-HI",
        "colab": {
          "base_uri": "https://localhost:8080/"
        },
        "outputId": "957dd570-a23b-47be-d46e-4b29edb4c7c6"
      },
      "execution_count": 10,
      "outputs": [
        {
          "output_type": "stream",
          "name": "stdout",
          "text": [
            "Addition: 13.5\n",
            "Subtraction: 7.5\n",
            "Division: 3.5\n",
            "Multiplication: 31.5\n",
            "Fission without residue: 3.0\n",
            "Division by module: 1.5\n",
            "Conversion to a degree: 1157.625\n"
          ]
        }
      ]
    },
    {
      "cell_type": "markdown",
      "source": [
        "6. Спробуйте проробити всі ті самі арифметичні операції над двома змінними, що посилаються на різні булеві значення. Прокоментуйте, чому, на Вашу думку, Ви отримали саме такі результати."
      ],
      "metadata": {
        "id": "74jIsang0Yfe"
      }
    },
    {
      "cell_type": "code",
      "source": [
        "a = True\n",
        "b = False\n",
        "\n",
        "addition_result = a + b\n",
        "print(\"Addition:\", addition_result)\n",
        "\n",
        "subtraction_result = a - b\n",
        "print(\"Subtraction:\", subtraction_result)\n",
        "\n",
        "multiplication_result = a * b\n",
        "print(\"Multiplication:\", multiplication_result)\n",
        "\n",
        "exponentiation_result = a ** b\n",
        "print(\"Exponentiation:\", exponentiation_result)\n",
        "\n",
        "division_result = a / b\n",
        "print(\"Division:\", division_result)\n",
        "\n",
        "modulo_result = a % b\n",
        "print(\"Modulo:\", modulo_result)"
      ],
      "metadata": {
        "id": "Py3JN4gU0eTq",
        "colab": {
          "base_uri": "https://localhost:8080/",
          "height": 315
        },
        "outputId": "33ff7bae-6cc5-427e-a434-243342dc7d9d"
      },
      "execution_count": 18,
      "outputs": [
        {
          "output_type": "stream",
          "name": "stdout",
          "text": [
            "Addition: 1\n",
            "Subtraction: 1\n",
            "Multiplication: 0\n",
            "Exponentiation: 1\n"
          ]
        },
        {
          "output_type": "error",
          "ename": "ZeroDivisionError",
          "evalue": "ignored",
          "traceback": [
            "\u001b[0;31m---------------------------------------------------------------------------\u001b[0m",
            "\u001b[0;31mZeroDivisionError\u001b[0m                         Traceback (most recent call last)",
            "\u001b[0;32m<ipython-input-18-48d16b8922b7>\u001b[0m in \u001b[0;36m<cell line: 21>\u001b[0;34m()\u001b[0m\n\u001b[1;32m     19\u001b[0m \u001b[0;34m\u001b[0m\u001b[0m\n\u001b[1;32m     20\u001b[0m \u001b[0;31m# Division (this line will cause a ZeroDivisionError)\u001b[0m\u001b[0;34m\u001b[0m\u001b[0;34m\u001b[0m\u001b[0m\n\u001b[0;32m---> 21\u001b[0;31m \u001b[0mdivision_result\u001b[0m \u001b[0;34m=\u001b[0m \u001b[0ma\u001b[0m \u001b[0;34m/\u001b[0m \u001b[0mb\u001b[0m\u001b[0;34m\u001b[0m\u001b[0;34m\u001b[0m\u001b[0m\n\u001b[0m\u001b[1;32m     22\u001b[0m \u001b[0mprint\u001b[0m\u001b[0;34m(\u001b[0m\u001b[0;34m\"Division:\"\u001b[0m\u001b[0;34m,\u001b[0m \u001b[0mdivision_result\u001b[0m\u001b[0;34m)\u001b[0m\u001b[0;34m\u001b[0m\u001b[0;34m\u001b[0m\u001b[0m\n\u001b[1;32m     23\u001b[0m \u001b[0;34m\u001b[0m\u001b[0m\n",
            "\u001b[0;31mZeroDivisionError\u001b[0m: division by zero"
          ]
        }
      ]
    },
    {
      "cell_type": "markdown",
      "source": [
        "В Python значення True внутрішньо розглядається як ціле число 1, а значення False - як 0. Коли ми виконуємо додавання і віднімання з логічними значеннями, Python розглядає їх як цілі числа і застосовує відповідні арифметичні операції. Помилка ZeroDivisionError виникла при спробі ділення (division_result = a / b) та піднесення до степеня (floor_division_result = a // b) за допомогою False. Це пов'язано з тим, що ділення на нуль у Python заборонено"
      ],
      "metadata": {
        "id": "-pY4SCvo0wMG"
      }
    },
    {
      "cell_type": "markdown",
      "source": [],
      "metadata": {
        "id": "utwehYEeMDxE"
      }
    },
    {
      "cell_type": "markdown",
      "source": [
        "7. Використовуючи змінні з вправи 3, продемонструйте механізм явного перетворення типів, де числа з рухомою комою перетворюються на цілі числа."
      ],
      "metadata": {
        "id": "1kBClKgPzZnC"
      }
    },
    {
      "cell_type": "code",
      "source": [
        "x = 10.5\n",
        "y = 3.0\n",
        "\n",
        "x_integer = int(x)\n",
        "y_integer = int(y)\n",
        "\n",
        "print(\"x as an integer:\", x_integer)\n",
        "print(\"y as an integer:\", y_integer)"
      ],
      "metadata": {
        "id": "akcVeUWYzlpb",
        "colab": {
          "base_uri": "https://localhost:8080/"
        },
        "outputId": "102a62f0-2979-49ee-86b7-513a79e2f195"
      },
      "execution_count": 19,
      "outputs": [
        {
          "output_type": "stream",
          "name": "stdout",
          "text": [
            "x as an integer: 10\n",
            "y as an integer: 3\n"
          ]
        }
      ]
    },
    {
      "cell_type": "markdown",
      "source": [
        "# III. Робота зі списками."
      ],
      "metadata": {
        "id": "GYVqN9uP1D4n"
      }
    },
    {
      "cell_type": "markdown",
      "source": [
        "8. Створити список двома різними за синтаксисом способами. За допомогою вбудованої функції обчисліть довжину одного з них."
      ],
      "metadata": {
        "id": "7-DeDunw2sO-"
      }
    },
    {
      "cell_type": "code",
      "source": [
        "my_list1 = [1, 2, 3, 4, 5]\n",
        "length1 = len(my_list1)\n",
        "print(\"List length my_list1:\", length1)\n",
        "\n",
        "my_list2 = list(\"Hello\")\n",
        "length2 = len(my_list2)\n",
        "print(\"List length my_list2:\", length2)"
      ],
      "metadata": {
        "id": "jY07arjK21hH",
        "colab": {
          "base_uri": "https://localhost:8080/"
        },
        "outputId": "91a6b583-fce4-4f52-c13a-730b4b47cb10"
      },
      "execution_count": 22,
      "outputs": [
        {
          "output_type": "stream",
          "name": "stdout",
          "text": [
            "List length my_list1: 5\n",
            "List length my_list2: 5\n"
          ]
        }
      ]
    },
    {
      "cell_type": "markdown",
      "source": [
        "9. Створіть два списка та за допомогою спеціального методу додайте другий з них в якості останнього елемента першого."
      ],
      "metadata": {
        "id": "8vmGUTjL22gI"
      }
    },
    {
      "cell_type": "code",
      "source": [
        "list1 = [1, 2, 3]\n",
        "list2 = [4, 5, 6]\n",
        "\n",
        "list1.append(list2)\n",
        "print(\"Changed list list1:\", list1)"
      ],
      "metadata": {
        "id": "DSP6lO_m4cdV",
        "colab": {
          "base_uri": "https://localhost:8080/"
        },
        "outputId": "a8a6af5d-3eb4-4956-8589-ed56ffb54674"
      },
      "execution_count": 23,
      "outputs": [
        {
          "output_type": "stream",
          "name": "stdout",
          "text": [
            "Changed list list1: [1, 2, 3, [4, 5, 6]]\n"
          ]
        }
      ]
    },
    {
      "cell_type": "markdown",
      "source": [
        "10. Створіть два списка та за допомогою спеціального методу \"розширте\" перший (додайте всі елементи другого в кінець першого списку). Напишіть, чим відрізняються методи в завданні 9 та 10."
      ],
      "metadata": {
        "id": "6ke6ng2j4dtq"
      }
    },
    {
      "cell_type": "code",
      "source": [
        "list1 = [1, 2, 3]\n",
        "list2 = [4, 5, 6]\n",
        "\n",
        "list1.extend(list2)\n",
        "print(\"Changed list list1:\", list1)"
      ],
      "metadata": {
        "id": "DVJVvu494q8d",
        "colab": {
          "base_uri": "https://localhost:8080/"
        },
        "outputId": "441adaaa-2acb-44fa-c40e-ab1ad0a7d3d1"
      },
      "execution_count": 25,
      "outputs": [
        {
          "output_type": "stream",
          "name": "stdout",
          "text": [
            "Changed list list1: [1, 2, 3, 4, 5, 6]\n"
          ]
        }
      ]
    },
    {
      "cell_type": "markdown",
      "source": [
        "Метод .append() додає один елемент до списку, тимчасом як метод .extend() додає всі елементи ітерабельного об'єкта до списку."
      ],
      "metadata": {
        "id": "LvEs8TGo6CaT"
      }
    },
    {
      "cell_type": "markdown",
      "source": [
        "11. Створіть список та відсортуйте його так, щоб:\n",
        "а) його id залишився незмінним після сортування.\n",
        "б) результат сортування був збережений у нову змінну. Підказка: для одного пункту використовуйте вбудовану функцію стортування, а в іншому - спеціальний метод для роботи зі списками."
      ],
      "metadata": {
        "id": "iu_NyJeR4vOu"
      }
    },
    {
      "cell_type": "code",
      "source": [
        "# a\n",
        "original_list = [3, 1, 2, 4]\n",
        "list_a = original_list.copy()\n",
        "list_a.sort()\n",
        "\n",
        "print(\"List with the saved id after sorting:\", list_a)\n",
        "print(\"The original list:\", original_list)"
      ],
      "metadata": {
        "id": "LWdiIkDj5Nxo",
        "colab": {
          "base_uri": "https://localhost:8080/"
        },
        "outputId": "d9542928-5d21-448a-f1f6-22fc2f06949c"
      },
      "execution_count": 26,
      "outputs": [
        {
          "output_type": "stream",
          "name": "stdout",
          "text": [
            "List with the saved id after sorting: [1, 2, 3, 4]\n",
            "The original list: [3, 1, 2, 4]\n"
          ]
        }
      ]
    },
    {
      "cell_type": "code",
      "source": [
        "# b\n",
        "original_list = [3, 1, 2, 4]\n",
        "list_b = sorted(original_list)\n",
        "\n",
        "print(\"The new list after sorting is saved to list_b:\", list_b)\n",
        "print(\"The original list:\", original_list)\n"
      ],
      "metadata": {
        "id": "JHl9vlFa5bHt",
        "colab": {
          "base_uri": "https://localhost:8080/"
        },
        "outputId": "67997480-fc7f-447d-d8cb-9b54b8b4355f"
      },
      "execution_count": 27,
      "outputs": [
        {
          "output_type": "stream",
          "name": "stdout",
          "text": [
            "The new list after sorting is saved to list_b: [1, 2, 3, 4]\n",
            "The original list: [3, 1, 2, 4]\n"
          ]
        }
      ]
    },
    {
      "cell_type": "markdown",
      "source": [
        "12. Створіть список з елементами різного типу, де деякі значення елементів повторюються. За допомогою спеціального методу порахуйте кількість значень одного з елементів на Ваш вибір. Результат виведіть на екран."
      ],
      "metadata": {
        "id": "1l80guua5bia"
      }
    },
    {
      "cell_type": "code",
      "source": [
        "my_list = [1, \"apple\", 2, \"banana\", 3, \"apple\", 4, \"cherry\", \"apple\"]\n",
        "count_apple = my_list.count(\"apple\")\n",
        "print(\"Number of 'apple' values in the list:\", count_apple)"
      ],
      "metadata": {
        "id": "tWFdczmv5z5Q",
        "colab": {
          "base_uri": "https://localhost:8080/"
        },
        "outputId": "93fa9cf9-7775-483d-f3e0-fd6430fddd7a"
      },
      "execution_count": 28,
      "outputs": [
        {
          "output_type": "stream",
          "name": "stdout",
          "text": [
            "Number of 'apple' values in the list: 3\n"
          ]
        }
      ]
    },
    {
      "cell_type": "markdown",
      "source": [
        "# IV. Робота з кортежами."
      ],
      "metadata": {
        "id": "pCjR1dJb1Qbi"
      }
    },
    {
      "cell_type": "markdown",
      "source": [
        "13. Створити список з один типом елементів та на основі цього списку створити кортеж."
      ],
      "metadata": {
        "id": "te3MAUYq28TV"
      }
    },
    {
      "cell_type": "code",
      "source": [
        "my_list = [1, 2, 3, 4, 5]\n",
        "my_tuple = tuple(my_list)\n",
        "print(\"A tuple has been created:\", my_tuple)"
      ],
      "metadata": {
        "id": "uq3O114R2_H1",
        "colab": {
          "base_uri": "https://localhost:8080/"
        },
        "outputId": "a916e39c-fdd7-4f04-b139-186a0a5f370b"
      },
      "execution_count": 30,
      "outputs": [
        {
          "output_type": "stream",
          "name": "stdout",
          "text": [
            "A tuple has been created: (1, 2, 3, 4, 5)\n"
          ]
        }
      ]
    },
    {
      "cell_type": "markdown",
      "source": [
        "14. Створити кортеж з один елементом."
      ],
      "metadata": {
        "id": "fAZCxAX06R_k"
      }
    },
    {
      "cell_type": "code",
      "source": [
        "my_tuple = (42,)\n",
        "print(my_tuple)"
      ],
      "metadata": {
        "id": "-QWjudqk6kHd",
        "colab": {
          "base_uri": "https://localhost:8080/"
        },
        "outputId": "d788304e-218e-400e-fab4-31e015996cb5"
      },
      "execution_count": 35,
      "outputs": [
        {
          "output_type": "stream",
          "name": "stdout",
          "text": [
            "(42,)\n"
          ]
        }
      ]
    },
    {
      "cell_type": "markdown",
      "source": [
        "15. Створити кортеж. Вивести на екран всі доступні його атрибути та методи."
      ],
      "metadata": {
        "id": "VfTSJwQF7djZ"
      }
    },
    {
      "cell_type": "code",
      "source": [
        "my_tuple = (1, 2, 3)\n",
        "print(dir(my_tuple))"
      ],
      "metadata": {
        "id": "x9elcFfr774r",
        "colab": {
          "base_uri": "https://localhost:8080/"
        },
        "outputId": "1c2cbb7e-c11c-4e96-a192-3e168370c425"
      },
      "execution_count": 36,
      "outputs": [
        {
          "output_type": "stream",
          "name": "stdout",
          "text": [
            "['__add__', '__class__', '__class_getitem__', '__contains__', '__delattr__', '__dir__', '__doc__', '__eq__', '__format__', '__ge__', '__getattribute__', '__getitem__', '__getnewargs__', '__gt__', '__hash__', '__init__', '__init_subclass__', '__iter__', '__le__', '__len__', '__lt__', '__mul__', '__ne__', '__new__', '__reduce__', '__reduce_ex__', '__repr__', '__rmul__', '__setattr__', '__sizeof__', '__str__', '__subclasshook__', 'count', 'index']\n"
          ]
        }
      ]
    },
    {
      "cell_type": "markdown",
      "source": [
        "16. Порівняйте список та кортеж. Назвіть схожості та відмінності, випадки використання."
      ],
      "metadata": {
        "id": "8LCtYcmI6w1M"
      }
    },
    {
      "cell_type": "markdown",
      "source": [
        "Обидва підтримують індексацію, зрізи та різні типи елементів.\n",
        "Відмінність полягає у змінності: списки змінні, кортежі - незмінні. Синтаксис списків використовує квадратні дужки [], кортежі - круглі (). Кортежі зазвичай є швидшими через свою незмінність.\n"
      ],
      "metadata": {
        "id": "t9MwoWor7UVB"
      }
    },
    {
      "cell_type": "markdown",
      "source": [
        "# V. Індексування та слайсинг."
      ],
      "metadata": {
        "id": "QTP622J81iHk"
      }
    },
    {
      "cell_type": "markdown",
      "source": [
        "17. Створіть список з 6ти елементів. Отримайте третій елемент за допомогою двох різних індексів."
      ],
      "metadata": {
        "id": "4dmeIU-N9gHy"
      }
    },
    {
      "cell_type": "code",
      "source": [
        "my_list = [10, 20, 30, 40, 50, 60]\n",
        "element1 = my_list[2]\n",
        "element2 = my_list[-4]\n",
        "\n",
        "print(\"The third element (by index 2):\", element1)\n",
        "print(\"The third element (with a negative index of -4):\", element2)"
      ],
      "metadata": {
        "id": "47LTFhfH9pRe",
        "colab": {
          "base_uri": "https://localhost:8080/"
        },
        "outputId": "0a3522ec-bbd4-473b-a448-1859e9805bd3"
      },
      "execution_count": 38,
      "outputs": [
        {
          "output_type": "stream",
          "name": "stdout",
          "text": [
            "The third element (by index 2): 30\n",
            "The third element (with a negative index of -4): 30\n"
          ]
        }
      ]
    },
    {
      "cell_type": "markdown",
      "source": [
        "18. Створіть список, де елементами цього списку також є списки. Отримай перший елемент з останнього рядка та виведи значення на екран."
      ],
      "metadata": {
        "id": "JC3BkD-67_--"
      }
    },
    {
      "cell_type": "code",
      "source": [
        "my_list = [\n",
        "    [1, 2, 3],\n",
        "    [4, 5, 6],\n",
        "    [7, 8, 9]\n",
        "]\n",
        "\n",
        "last_row = my_list[-1]\n",
        "first_element_last_row = last_row[0]\n",
        "\n",
        "print(\"The first element from the last line:\", first_element_last_row)"
      ],
      "metadata": {
        "id": "ctR2jdq68cB0",
        "colab": {
          "base_uri": "https://localhost:8080/"
        },
        "outputId": "f44ac998-afce-48a8-9dad-64786c5ab00a"
      },
      "execution_count": 39,
      "outputs": [
        {
          "output_type": "stream",
          "name": "stdout",
          "text": [
            "The first element from the last line: 7\n"
          ]
        }
      ]
    },
    {
      "cell_type": "markdown",
      "source": [
        "19. Створіть кортеж, що містить 8  елементів цілочисленного типу. Виведіть на екран три найменших значення."
      ],
      "metadata": {
        "id": "A-hPrvOS8cjx"
      }
    },
    {
      "cell_type": "code",
      "source": [
        "my_tuple = (15, 8, 3, 12, 6, 21, 10, 5)\n",
        "sorted_tuple = sorted(my_tuple)\n",
        "print(\"The three smallest values:\", sorted_tuple[:3])"
      ],
      "metadata": {
        "id": "GPxJKNUm8xHU",
        "colab": {
          "base_uri": "https://localhost:8080/"
        },
        "outputId": "15d0726a-a74b-4434-f7f0-8711b27409af"
      },
      "execution_count": 40,
      "outputs": [
        {
          "output_type": "stream",
          "name": "stdout",
          "text": [
            "The three smallest values: [3, 5, 6]\n"
          ]
        }
      ]
    },
    {
      "cell_type": "markdown",
      "source": [
        "20. Створіть список з десяти елементів різного типу. Отримайте всі елементи, окрім двох перших та двох останніх та збережіть їх в новій змінній."
      ],
      "metadata": {
        "id": "JA47PKTv8zFK"
      }
    },
    {
      "cell_type": "code",
      "source": [
        "my_list = [1, 2, 3, 4, 5, 6, 7, 8, 9, 10]\n",
        "new_list = my_list[2:-2]\n",
        "\n",
        "print(\"New list without the first two and last two items:\", new_list)"
      ],
      "metadata": {
        "id": "g-GAQS_kAlmr",
        "colab": {
          "base_uri": "https://localhost:8080/"
        },
        "outputId": "7f969d5a-8e57-429e-b4e3-a48d92ce5eec"
      },
      "execution_count": 42,
      "outputs": [
        {
          "output_type": "stream",
          "name": "stdout",
          "text": [
            "New list without the first two and last two items: [3, 4, 5, 6, 7, 8]\n"
          ]
        }
      ]
    },
    {
      "cell_type": "markdown",
      "source": [
        "21. Створіть кортеж з 11ти елементів чисел з рухомою комою та отримайте кожен парний за індексом елемент в зворотньому порядку. Наприклад, маючи (1.2, 2.3, 3.3, 4.3, 5.3, 6.3, 7.3, 8.3, 9.3, 0.3), отримати (0.3, 8.3, 6.3, 4.3, 2.3). Результат збережіть в нову змінну та виведіть на екран."
      ],
      "metadata": {
        "id": "m0xrwFijAmDD"
      }
    },
    {
      "cell_type": "code",
      "source": [
        "my_tuple = (1.2, 2.3, 3.3, 4.3, 5.3, 6.3, 7.3, 8.3, 9.3, 0.3)\n",
        "result_tuple = my_tuple[::-2]\n",
        "\n",
        "print(\"Result:\", result_tuple)"
      ],
      "metadata": {
        "id": "BQwYLEXdBVBo",
        "colab": {
          "base_uri": "https://localhost:8080/"
        },
        "outputId": "c88bb696-c633-4a1b-943c-5cfe4f8559fb"
      },
      "execution_count": 45,
      "outputs": [
        {
          "output_type": "stream",
          "name": "stdout",
          "text": [
            "Result: (0.3, 8.3, 6.3, 4.3, 2.3)\n"
          ]
        }
      ]
    },
    {
      "cell_type": "markdown",
      "source": [
        "# Вітаю! Ви велика(ий) молодець, що впоралась(вся). Похваліть себе та побалуйте чимось приємним. Я Вами пишаюся."
      ],
      "metadata": {
        "id": "F0ArvieRBZsG"
      }
    }
  ]
}